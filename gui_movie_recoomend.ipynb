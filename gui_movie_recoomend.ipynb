{
 "cells": [
  {
   "cell_type": "code",
   "execution_count": 29,
   "metadata": {},
   "outputs": [],
   "source": [
    "import tkinter as tk\n",
    "import pandas as pd"
   ]
  },
  {
   "cell_type": "code",
   "execution_count": 30,
   "metadata": {},
   "outputs": [],
   "source": [
    "import warnings\n",
    "warnings.filterwarnings('ignore')"
   ]
  },
  {
   "cell_type": "code",
   "execution_count": null,
   "metadata": {},
   "outputs": [],
   "source": [
    "df = pd.read_csv('u.data',sep='\\t',names = ['user_id','item_id','rating','ts'])\n",
    "cols = \"item_id|title| release date | video release date |\\\n",
    "              IMDb URL | unknown | Action | Adventure | Animation |\\\n",
    "              Children's | Comedy | Crime | Documentary | Drama | Fantasy |\\\n",
    "              Film-Noir | Horror | Musical | Mystery | Romance | Sci-Fi |\\\n",
    "              Thriller | War | Western \".split('|')\n",
    "movies = pd.read_csv('u.item',sep='|',names = cols,encoding='ISO-8859-1')\n",
    "data = pd.merge(df.drop('ts',axis=1), movies[['item_id','title']], on='item_id')\n",
    "rates_count = data.groupby('title')['rating'].count()\n",
    "df_pivot=data.pivot_table(index='user_id',columns='title',values='rating')\n",
    "\n",
    "\n",
    "app= tk.Tk()\n",
    "app.geometry('400x300')\n",
    "app.title('MOVIE RECOMMENDATION ENGINE')\n",
    "listbox = tk.Listbox(app,height = 15,width=35,bg='white',fg='black')\n",
    "listbox.place(x=20,y=20)\n",
    "for i,t in enumerate(data['title'].unique()):\n",
    "    listbox.insert(i+1,t)\n",
    "\n",
    "\n",
    "\n",
    "def recommend():\n",
    "    inp = listbox.get(listbox.curselection())\n",
    "    sin_dif =pd.DataFrame(df_pivot.corrwith(df_pivot[inp]),columns=['corr'])\n",
    "    sin_dif['count'] = rates_count\n",
    "    recom = sin_dif[sin_dif['count']>100].sort_values('corr',ascending=False)\n",
    "    recom.drop(inp,axis=0,inplace=True)# it remove the star wars\n",
    "    recommended = recom.index[:3]\n",
    "    result1.set(recommended[0])\n",
    "    result2.set(recommended[1])\n",
    "    result3.set(recommended[2])\n",
    "    print(inp)\n",
    "    print(recommended)\n",
    "   \n",
    "    \n",
    "tk.Button(app,text='Show Recommendation',command=recommend,bg='red').place(x=250,y=50)\n",
    "\n",
    "result1 = tk.Variable(app)\n",
    "result1.set('.')\n",
    "tk.Label(app, textvariable=result1).place(x=250,y=100)\n",
    "\n",
    "result2 = tk.Variable(app)\n",
    "result2.set('.')\n",
    "tk.Label(app,textvariable=result2).place(x=250,y=130)\n",
    "\n",
    "result3 = tk.Variable(app)\n",
    "result3.set('.')\n",
    "tk.Label(app,textvariable=result3).place(x=250,y=160)\n",
    "\n",
    "\n",
    "app.mainloop()"
   ]
  },
  {
   "cell_type": "code",
   "execution_count": null,
   "metadata": {},
   "outputs": [],
   "source": []
  },
  {
   "cell_type": "code",
   "execution_count": null,
   "metadata": {},
   "outputs": [],
   "source": []
  },
  {
   "cell_type": "code",
   "execution_count": null,
   "metadata": {},
   "outputs": [],
   "source": []
  }
 ],
 "metadata": {
  "kernelspec": {
   "display_name": "Python 3",
   "language": "python",
   "name": "python3"
  },
  "language_info": {
   "codemirror_mode": {
    "name": "ipython",
    "version": 3
   },
   "file_extension": ".py",
   "mimetype": "text/x-python",
   "name": "python",
   "nbconvert_exporter": "python",
   "pygments_lexer": "ipython3",
   "version": "3.8.5"
  }
 },
 "nbformat": 4,
 "nbformat_minor": 4
}
